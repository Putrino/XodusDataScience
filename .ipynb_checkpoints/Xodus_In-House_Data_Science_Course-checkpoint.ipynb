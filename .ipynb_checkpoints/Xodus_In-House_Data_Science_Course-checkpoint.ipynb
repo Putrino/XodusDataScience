{
 "cells": [
  {
   "cell_type": "markdown",
   "metadata": {},
   "source": [
    "# Xodus In-House Basic Data Science Training"
   ]
  },
  {
   "cell_type": "markdown",
   "metadata": {},
   "source": [
    "**Introduction**\n",
    "\n",
    "The purpose of this Notebook is to provide people with resources to start learning some basic Data Science skills. At the entry level to Data Science in Xodus the main focus is on developing coding skills in Python so that we can achieve the following:\n",
    "* Faster generation of results\n",
    "* Smarter creation and delivery of solutions\n",
    "* Automation of repetitive tasks\n",
    "* Innovation of tools and methodologies\n",
    "* Increased collaboration through co-development of tools\n",
    "* Setting a new standard for engineering\n",
    "\n",
    "**Installing Python**\n",
    "\n",
    "At Xodus we use Anaconda as the product suite which contains the Python programming package. The Python programming package is called Spyder.\n",
    "\n",
    "Download the Anaconda suite from the Software Centre. Once installed, Spyder should be available in your list of programs and you can start practising your Python skills.\n",
    "\n",
    "\n",
    "**Getting Started**\n",
    "\n",
    "The following resources should be used to get started in Python. Payment may be done using company credit cards, and receipts provided - as per all other company training. Note the prices quoted are from 2019 and are maximums, as often there are discounts applied.\n",
    "\n",
    "| Resource | Description | Link | Cost | Purpose |\n",
    "|----------|---------------------------------------|------------------------------------------------------------|------|--------------------------|\n",
    "| Udemy | Basic Python programming skills | https://www.udemy.com/automate/ | <\\$60| Make you coding literate |\n",
    "| Udemy | Intro to most commonly used libraries | https://www.udemy.com/data-science-with-python-and-pandas/ | <\\$25 | Intro to Data Science |\n",
    "\n",
    "\n",
    "**Troubleshooting**\n",
    "\n",
    "Honestly, the best resource for troubleshooting code errors is Google. Generally the number one hit is from the stackoverflow site, where somebody has already asked your question, and a publicly-vetted answer has been given (example below). The second best resource will be other people in Xodus who are coding literate. Try finding something using the Data Science Teams space.\n",
    "   \n",
    "&nbsp;&nbsp;&nbsp;&nbsp;   Google: \"How do I add a new column to a dataframe in Python?\"\n",
    "   \n",
    "&nbsp;&nbsp;&nbsp;&nbsp;   Result: https://stackoverflow.com/questions/12555323/adding-new-column-to-existing-dataframe-in-python-pandas\n",
    "\n",
    "Experience from others who have quickly progressed up the Python learning curve suggest that once you have mastered the basics you can access the vast repository of free online resources like youtube videos, blogs, etc to build your code.\n",
    "\n",
    "**Follow-on**\n",
    "\n",
    "The best way to progress with what you've gained through the Udemy training is to practise on actual applications. It is encouraged to apply the skills from the training on day-to-day tasks while it is still fresh in mind. If you're looking for additional applications, please post a request to the Data Science Teamspace and someone may have a task to get you started!"
   ]
  },
  {
   "cell_type": "markdown",
   "metadata": {},
   "source": [
    "**Jupyter Notebook Learning**\n",
    "\n",
    "Jupyter Notebooks are documents produced by the Jupyter Notebook App (also part of the Anaconda installation), which contain both computer code (e.g. python) and rich text elements (paragraph, equations, figures, links, etc…). Notebook documents are both human-readable documents containing the analysis description and the results (figures, tables, etc..) as well as executable documents which can be run to perform data analysis.\n",
    "\n",
    "Notebooks should be used to share code and to present results of code to other people. There are a host of Jupyter notebook tutorials available online.\n",
    "\n",
    "One resources that has been tested and found to be helpful is the Youtube video ['Jupyter Notebook Tutorial: Introduction, Setup, and Walkthrough' by Corey Schafer](https://www.youtube.com/watch?v=HW29067qVWk)"
   ]
  },
  {
   "cell_type": "markdown",
   "metadata": {},
   "source": [
    "Additional useful examples of Notebooks can be found here:\n",
    "https://github.com/jupyter/jupyter/wiki/A-gallery-of-interesting-Jupyter-Notebooks#pandas-for-data-analysis"
   ]
  },
  {
   "cell_type": "code",
   "execution_count": null,
   "metadata": {},
   "outputs": [],
   "source": []
  }
 ],
 "metadata": {
  "kernelspec": {
   "display_name": "Python 3",
   "language": "python",
   "name": "python3"
  },
  "language_info": {
   "codemirror_mode": {
    "name": "ipython",
    "version": 3
   },
   "file_extension": ".py",
   "mimetype": "text/x-python",
   "name": "python",
   "nbconvert_exporter": "python",
   "pygments_lexer": "ipython3",
   "version": "3.7.0"
  }
 },
 "nbformat": 4,
 "nbformat_minor": 2
}
